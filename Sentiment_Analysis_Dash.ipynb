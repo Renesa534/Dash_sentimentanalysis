{
 "cells": [
  {
   "cell_type": "code",
   "execution_count": 11,
   "id": "0bf1ffcf",
   "metadata": {},
   "outputs": [],
   "source": [
    "from textblob import TextBlob"
   ]
  },
  {
   "cell_type": "code",
   "execution_count": 12,
   "id": "bb7be563",
   "metadata": {},
   "outputs": [],
   "source": [
    "from vaderSentiment.vaderSentiment import SentimentIntensityAnalyzer"
   ]
  },
  {
   "cell_type": "code",
   "execution_count": 15,
   "id": "67a685f5",
   "metadata": {},
   "outputs": [
    {
     "name": "stderr",
     "output_type": "stream",
     "text": [
      "[nltk_data] Downloading package averaged_perceptron_tagger to\n",
      "[nltk_data]     C:\\Users\\Renesa\\AppData\\Roaming\\nltk_data...\n",
      "[nltk_data]   Unzipping taggers\\averaged_perceptron_tagger.zip.\n"
     ]
    },
    {
     "data": {
      "text/plain": [
       "True"
      ]
     },
     "execution_count": 15,
     "metadata": {},
     "output_type": "execute_result"
    }
   ],
   "source": [
    "import nltk\n",
    "nltk.download('averaged_perceptron_tagger')"
   ]
  },
  {
   "cell_type": "markdown",
   "id": "4d95769c",
   "metadata": {},
   "source": [
    "### Convert the text into textblob object"
   ]
  },
  {
   "cell_type": "code",
   "execution_count": 13,
   "id": "9fe1dee2",
   "metadata": {},
   "outputs": [
    {
     "name": "stdout",
     "output_type": "stream",
     "text": [
      "['__add__', '__class__', '__contains__', '__delattr__', '__dict__', '__dir__', '__doc__', '__eq__', '__format__', '__ge__', '__getattribute__', '__getitem__', '__gt__', '__hash__', '__init__', '__init_subclass__', '__iter__', '__le__', '__len__', '__lt__', '__module__', '__ne__', '__new__', '__reduce__', '__reduce_ex__', '__repr__', '__setattr__', '__sizeof__', '__str__', '__subclasshook__', '__weakref__', '_cmpkey', '_compare', '_create_sentence_objects', '_strkey', 'analyzer', 'classifier', 'classify', 'correct', 'detect_language', 'ends_with', 'endswith', 'find', 'format', 'index', 'join', 'json', 'lower', 'ngrams', 'noun_phrases', 'np_counts', 'np_extractor', 'parse', 'parser', 'polarity', 'pos_tagger', 'pos_tags', 'raw', 'raw_sentences', 'replace', 'rfind', 'rindex', 'sentences', 'sentiment', 'sentiment_assessments', 'serialized', 'split', 'starts_with', 'startswith', 'string', 'strip', 'stripped', 'subjectivity', 'tags', 'title', 'to_json', 'tokenize', 'tokenizer', 'tokens', 'translate', 'translator', 'upper', 'word_counts', 'words']\n"
     ]
    }
   ],
   "source": [
    "\n",
    "analysis= TextBlob(\"Textblob surely has some interesting features!!\")\n",
    "#To figure out what all can be done with the textblob object\n",
    "print(dir(analysis))"
   ]
  },
  {
   "cell_type": "code",
   "execution_count": 9,
   "id": "eb6a4322",
   "metadata": {},
   "outputs": [
    {
     "name": "stdout",
     "output_type": "stream",
     "text": [
      "TextBlob निश्चित रूप से कुछ दिलचस्प विशेषताएं हैं !!\n"
     ]
    }
   ],
   "source": [
    "print(analysis.translate(from_lang=\"en\",to='hi'))"
   ]
  },
  {
   "cell_type": "code",
   "execution_count": 16,
   "id": "3f293f91",
   "metadata": {},
   "outputs": [
    {
     "name": "stdout",
     "output_type": "stream",
     "text": [
      "[('Textblob', 'NNP'), ('surely', 'RB'), ('has', 'VBZ'), ('some', 'DT'), ('interesting', 'JJ'), ('features', 'NNS')]\n"
     ]
    }
   ],
   "source": [
    "#To get POS tags of every text element in the sentence\n",
    "print(analysis.tags)"
   ]
  },
  {
   "cell_type": "code",
   "execution_count": 17,
   "id": "f90db096",
   "metadata": {},
   "outputs": [
    {
     "name": "stdout",
     "output_type": "stream",
     "text": [
      "Sentiment(polarity=0.640625, subjectivity=0.6944444444444444)\n"
     ]
    }
   ],
   "source": [
    "print(analysis.sentiment)"
   ]
  },
  {
   "cell_type": "markdown",
   "id": "cd9f9bfb",
   "metadata": {},
   "source": [
    "#### Both subjectivity & polarity are considered for sentiment analysis"
   ]
  },
  {
   "cell_type": "code",
   "execution_count": 36,
   "id": "f55160c8",
   "metadata": {},
   "outputs": [],
   "source": [
    "pos_count= 0\n",
    "pos_correct= 0"
   ]
  },
  {
   "cell_type": "code",
   "execution_count": 37,
   "id": "0fe00bf7",
   "metadata": {},
   "outputs": [],
   "source": [
    "with open('positive.txt', 'r') as f:\n",
    "    for line in f.read().split('\\n'):\n",
    "        analysis_text= TextBlob(line)\n",
    "        if analysis_text.sentiment.subjectivity>0.8:\n",
    "            if analysis_text.sentiment.polarity> 0:\n",
    "                pos_correct+=1\n",
    "            pos_count+=1\n",
    "        "
   ]
  },
  {
   "cell_type": "code",
   "execution_count": 38,
   "id": "95126e30",
   "metadata": {},
   "outputs": [],
   "source": [
    "neg_count= 0\n",
    "neg_correct= 0"
   ]
  },
  {
   "cell_type": "code",
   "execution_count": 39,
   "id": "71a16100",
   "metadata": {},
   "outputs": [],
   "source": [
    "with open('negative.txt', 'r') as fneg:\n",
    "    for line in fneg.read().split('\\n'):\n",
    "        analysis_textneg= TextBlob(line)\n",
    "        if analysis_textneg.sentiment.subjectivity>0.8:\n",
    "            if analysis_textneg.sentiment.polarity<= 0:\n",
    "                neg_correct+=1\n",
    "            neg_count+=1"
   ]
  },
  {
   "cell_type": "code",
   "execution_count": 40,
   "id": "3c93b68e",
   "metadata": {},
   "outputs": [
    {
     "name": "stdout",
     "output_type": "stream",
     "text": [
      "Positive accuracy: 78.72928176795581% via 724 samples\n",
      "Negative accuracy: 64.568345323741% via 556 samples\n"
     ]
    }
   ],
   "source": [
    "print(\"Positive accuracy: {}% via {} samples\".format(pos_correct/pos_count*100.0, pos_count))\n",
    "print(\"Negative accuracy: {}% via {} samples\".format(neg_correct/neg_count*100.0, neg_count))"
   ]
  },
  {
   "cell_type": "markdown",
   "id": "2666bafb",
   "metadata": {},
   "source": [
    "#### Considering the neutrality factor with polarity for the sentiment analysis "
   ]
  },
  {
   "cell_type": "code",
   "execution_count": 60,
   "id": "24143be2",
   "metadata": {},
   "outputs": [
    {
     "name": "stdout",
     "output_type": "stream",
     "text": [
      "Positive accuracy: 100.0% via 766 samples\n",
      "Negative accuracy: 100.0% via 282 samples\n",
      "CPU times: total: 2.08 s\n",
      "Wall time: 2.08 s\n"
     ]
    }
   ],
   "source": [
    "%%time\n",
    "pos_count= 0\n",
    "pos_correct= 0\n",
    "with open('positive.txt', 'r') as f:\n",
    "    for line in f.read().split('\\n'):\n",
    "        analysis_text= TextBlob(line)\n",
    "        if analysis_text.sentiment.polarity>=0.5:\n",
    "            if analysis_text.sentiment.polarity> 0:\n",
    "                pos_correct+=1\n",
    "            pos_count+=1\n",
    "            \n",
    "neg_count= 0\n",
    "neg_correct= 0\n",
    "with open('negative.txt', 'r') as fneg:\n",
    "    for line in fneg.read().split('\\n'):\n",
    "        analysis_textneg= TextBlob(line)\n",
    "        if analysis_textneg.sentiment.polarity<=-0.5:\n",
    "            if analysis_textneg.sentiment.polarity<= 0:\n",
    "                neg_correct+=1\n",
    "            neg_count+=1\n",
    "            \n",
    "print(\"Positive accuracy: {}% via {} samples\".format(pos_correct/pos_count*100.0, pos_count))\n",
    "print(\"Negative accuracy: {}% via {} samples\".format(neg_correct/neg_count*100.0, neg_count))"
   ]
  },
  {
   "cell_type": "markdown",
   "id": "90b0acad",
   "metadata": {},
   "source": [
    "### Convert the text into vader sentiment's SentimentIntensityAnalyzer object"
   ]
  },
  {
   "cell_type": "code",
   "execution_count": 42,
   "id": "84fa880f",
   "metadata": {},
   "outputs": [
    {
     "name": "stdout",
     "output_type": "stream",
     "text": [
      "{'neg': 0.0, 'neu': 0.522, 'pos': 0.478, 'compound': 0.6705}\n"
     ]
    }
   ],
   "source": [
    "analyzer= SentimentIntensityAnalyzer()\n",
    "vs= analyzer.polarity_scores(\"VADER Sentiment looks interesting, I have high hopes.\")\n",
    "print(vs)"
   ]
  },
  {
   "cell_type": "markdown",
   "id": "cef2b8d2",
   "metadata": {},
   "source": [
    "#### Compound score is considered for sentiment analysis"
   ]
  },
  {
   "cell_type": "code",
   "execution_count": 43,
   "id": "71c94e67",
   "metadata": {},
   "outputs": [],
   "source": [
    "pos_count= 0\n",
    "pos_correct= 0\n",
    "with open('positive.txt', 'r') as f:\n",
    "    for line in f.read().split('\\n'):\n",
    "        vs= analyzer.polarity_scores(line)\n",
    "        if vs['compound']> 0:\n",
    "            pos_correct+=1\n",
    "        pos_count+=1\n",
    "        \n",
    "neg_count= 0\n",
    "neg_correct= 0\n",
    "with open('negative.txt', 'r') as fneg:\n",
    "    for line in fneg.read().split('\\n'):\n",
    "        vsneg= analyzer.polarity_scores(line)\n",
    "        if vsneg['compound']<= 0:\n",
    "            neg_correct+=1\n",
    "        neg_count+=1"
   ]
  },
  {
   "cell_type": "code",
   "execution_count": 44,
   "id": "38c17bef",
   "metadata": {},
   "outputs": [
    {
     "name": "stdout",
     "output_type": "stream",
     "text": [
      "Positive accuracy: 70.18004501125282% via 5332 samples\n",
      "Negative accuracy: 57.389347336834206% via 5332 samples\n"
     ]
    }
   ],
   "source": [
    "print(\"Positive accuracy: {}% via {} samples\".format(pos_correct/pos_count*100.0, pos_count))\n",
    "print(\"Negative accuracy: {}% via {} samples\".format(neg_correct/neg_count*100.0, neg_count))"
   ]
  },
  {
   "cell_type": "markdown",
   "id": "d7098493",
   "metadata": {},
   "source": [
    "#### Both compound score & neutrality factors are considered for sentiment analysis"
   ]
  },
  {
   "cell_type": "code",
   "execution_count": 47,
   "id": "6088b390",
   "metadata": {},
   "outputs": [],
   "source": [
    "threshold= 0.5\n",
    "\n",
    "pos_count= 0\n",
    "pos_correct= 0\n",
    "with open('positive.txt', 'r') as f:\n",
    "    for line in f.read().split('\\n'):\n",
    "        vs= analyzer.polarity_scores(line)\n",
    "        if vs['compound']<= -threshold or vs['compound']>= threshold:\n",
    "            if vs['compound']> 0:\n",
    "                pos_correct+=1\n",
    "            pos_count+=1\n",
    "        \n",
    "neg_count= 0\n",
    "neg_correct= 0\n",
    "with open('negative.txt', 'r') as fneg:\n",
    "    for line in fneg.read().split('\\n'):\n",
    "        vsneg= analyzer.polarity_scores(line)\n",
    "        if vsneg['compound']<= -threshold or vsneg['compound']>= threshold:\n",
    "            if vsneg['compound']> 0:\n",
    "                neg_correct+=1\n",
    "            neg_count+=1"
   ]
  },
  {
   "cell_type": "code",
   "execution_count": 48,
   "id": "aa50e1b1",
   "metadata": {},
   "outputs": [
    {
     "name": "stdout",
     "output_type": "stream",
     "text": [
      "Positive accuracy: 87.66037735849056% via 2650 samples\n",
      "Negative accuracy: 50.43859649122807% via 1824 samples\n"
     ]
    }
   ],
   "source": [
    "print(\"Positive accuracy: {}% via {} samples\".format(pos_correct/pos_count*100.0, pos_count))\n",
    "print(\"Negative accuracy: {}% via {} samples\".format(neg_correct/neg_count*100.0, neg_count))"
   ]
  },
  {
   "cell_type": "markdown",
   "id": "04c420df",
   "metadata": {},
   "source": [
    "#### Both positive & negative scores are considered for sentiment analysis"
   ]
  },
  {
   "cell_type": "code",
   "execution_count": 59,
   "id": "d5ca8e82",
   "metadata": {},
   "outputs": [
    {
     "name": "stdout",
     "output_type": "stream",
     "text": [
      "Positive accuracy: 81.0302734375% via 4096 samples\n",
      "Negative accuracy: 89.26862611073138% via 2926 samples\n",
      "CPU times: total: 1.27 s\n",
      "Wall time: 1.29 s\n"
     ]
    }
   ],
   "source": [
    "%%time\n",
    "pos_count= 0\n",
    "pos_correct= 0\n",
    "with open('positive.txt', 'r') as f:\n",
    "    for line in f.read().split('\\n'):\n",
    "        vs= analyzer.polarity_scores(line)\n",
    "        if not vs['neg']> 0.1:\n",
    "            if vs['pos']-vs['neg']> 0:\n",
    "                pos_correct+=1\n",
    "            pos_count+=1\n",
    "            \n",
    "neg_count= 0\n",
    "neg_correct= 0\n",
    "with open('negative.txt', 'r') as fneg:\n",
    "    for line in fneg.read().split('\\n'):\n",
    "        vsneg= analyzer.polarity_scores(line)\n",
    "        if not vsneg['pos']> 0.1:\n",
    "            if vsneg['pos']-vsneg['neg']<= 0:\n",
    "                neg_correct+=1\n",
    "            neg_count+=1\n",
    "print(\"Positive accuracy: {}% via {} samples\".format(pos_correct/pos_count*100.0, pos_count))\n",
    "print(\"Negative accuracy: {}% via {} samples\".format(neg_correct/neg_count*100.0, neg_count))            "
   ]
  },
  {
   "cell_type": "code",
   "execution_count": null,
   "id": "a5c9b596",
   "metadata": {},
   "outputs": [],
   "source": []
  }
 ],
 "metadata": {
  "kernelspec": {
   "display_name": "Python 3 (ipykernel)",
   "language": "python",
   "name": "python3"
  },
  "language_info": {
   "codemirror_mode": {
    "name": "ipython",
    "version": 3
   },
   "file_extension": ".py",
   "mimetype": "text/x-python",
   "name": "python",
   "nbconvert_exporter": "python",
   "pygments_lexer": "ipython3",
   "version": "3.8.16"
  }
 },
 "nbformat": 4,
 "nbformat_minor": 5
}
